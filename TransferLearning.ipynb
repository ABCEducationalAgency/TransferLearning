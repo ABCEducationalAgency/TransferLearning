{
 "cells": [
  {
   "cell_type": "code",
   "execution_count": null,
   "metadata": {},
   "outputs": [],
   "source": [
    "%pip install tensorflow\n",
    "%pip install seaborn\n",
    "%pip install scikit-learn"
   ]
  },
  {
   "cell_type": "code",
   "execution_count": null,
   "metadata": {
    "execution": {
     "iopub.execute_input": "2024-01-27T05:40:33.645573Z",
     "iopub.status.busy": "2024-01-27T05:40:33.644499Z",
     "iopub.status.idle": "2024-01-27T05:40:33.657806Z",
     "shell.execute_reply": "2024-01-27T05:40:33.65669Z",
     "shell.execute_reply.started": "2024-01-27T05:40:33.645533Z"
    },
    "trusted": true
   },
   "outputs": [],
   "source": [
    "import os\n",
    "\n",
    "#base settings\n",
    "\n",
    "baseDir = \"./datasets/FruitDataset/\"\n",
    "os.listdir(baseDir)\n",
    "\n",
    "batch_size = 4\n",
    "image_size = 32"
   ]
  },
  {
   "cell_type": "code",
   "execution_count": null,
   "metadata": {
    "execution": {
     "iopub.execute_input": "2024-01-27T05:40:39.493652Z",
     "iopub.status.busy": "2024-01-27T05:40:39.492824Z",
     "iopub.status.idle": "2024-01-27T05:40:39.499317Z",
     "shell.execute_reply": "2024-01-27T05:40:39.498382Z",
     "shell.execute_reply.started": "2024-01-27T05:40:39.493614Z"
    },
    "trusted": true
   },
   "outputs": [],
   "source": [
    "import tensorflow as tf\n",
    "\n",
    "# Load training and validation datasets\n",
    "train_ds = tf.keras.utils.image_dataset_from_directory(\n",
    "    baseDir + \"train\",\n",
    "    labels=\"inferred\", #figure out the values\n",
    "    label_mode=\"categorical\",  # Use categorical for multi-class classification\n",
    "    image_size=(image_size,image_size),\n",
    "    batch_size=batch_size,\n",
    "    shuffle=True,\n",
    "    seed=42            \n",
    ")\n",
    "\n",
    "val_ds = tf.keras.utils.image_dataset_from_directory(\n",
    "    baseDir + \"dev\",\n",
    "    labels=\"inferred\",\n",
    "    label_mode=\"categorical\",\n",
    "    image_size=(image_size,image_size),\n",
    "    batch_size=batch_size,\n",
    "    shuffle=True,\n",
    "    seed=42\n",
    ")\n",
    "\n",
    "# Test dataset (assuming separate directory for test data)\n",
    "test_ds = tf.keras.utils.image_dataset_from_directory(\n",
    "    baseDir + \"test\",\n",
    "    labels=\"inferred\",\n",
    "    label_mode=\"categorical\",\n",
    "    image_size=(image_size,image_size),\n",
    "    batch_size=batch_size,\n",
    "    shuffle=False  # No shuffling for test set\n",
    ")\n",
    "\n",
    "print(train_ds.class_names)"
   ]
  },
  {
   "cell_type": "code",
   "execution_count": null,
   "metadata": {
    "execution": {
     "iopub.execute_input": "2024-01-27T05:40:40.828834Z",
     "iopub.status.busy": "2024-01-27T05:40:40.828509Z",
     "iopub.status.idle": "2024-01-27T05:40:41.154055Z",
     "shell.execute_reply": "2024-01-27T05:40:41.153208Z",
     "shell.execute_reply.started": "2024-01-27T05:40:40.828808Z"
    },
    "trusted": true
   },
   "outputs": [],
   "source": [
    "# define model layers\n",
    "from tensorflow.keras import layers\n",
    "\n",
    "model = tf.keras.models.Sequential([\n",
    "    layers.Rescaling(1./255, input_shape=(image_size, image_size, 3)),\n",
    "    layers.Conv2D(64, 3, padding='same', activation='relu'),\n",
    "    layers.MaxPooling2D(),\n",
    "    layers.Conv2D(64, 3, padding='same', activation='relu'),\n",
    "    layers.MaxPooling2D(),\n",
    "    layers.Conv2D(64, 3, padding='same', activation='relu'),\n",
    "    layers.MaxPooling2D(),\n",
    "    layers.Flatten(),\n",
    "    layers.Dense(128, activation='relu'),\n",
    "    layers.Dense(3, activation='softmax')\n",
    "])"
   ]
  },
  {
   "cell_type": "code",
   "execution_count": null,
   "metadata": {
    "vscode": {
     "languageId": "markdown"
    }
   },
   "outputs": [],
   "source": [
    "# Load pre-trained weights into the model for transfer learning\n",
    "\n",
    "model.load_weights('./weights/customCNN.h5')"
   ]
  },
  {
   "cell_type": "code",
   "execution_count": null,
   "metadata": {},
   "outputs": [],
   "source": [
    "model.summary()"
   ]
  },
  {
   "cell_type": "code",
   "execution_count": null,
   "metadata": {},
   "outputs": [],
   "source": [
    "# Freeze all layers in base\n",
    "for layer in model.layers:\n",
    "    layer.trainable = False\n",
    "\n",
    "# Add new layers on top\n",
    "transfer_model = tf.keras.Sequential([\n",
    "    model,\n",
    "    layers.Dense(3, activation='softmax')  # e.g., new output layer for new task\n",
    "])\n"
   ]
  },
  {
   "cell_type": "code",
   "execution_count": null,
   "metadata": {},
   "outputs": [],
   "source": [
    "transfer_model.summary()"
   ]
  },
  {
   "cell_type": "code",
   "execution_count": null,
   "metadata": {
    "execution": {
     "iopub.execute_input": "2024-01-27T05:40:42.039186Z",
     "iopub.status.busy": "2024-01-27T05:40:42.038861Z",
     "iopub.status.idle": "2024-01-27T05:40:42.054866Z",
     "shell.execute_reply": "2024-01-27T05:40:42.054056Z",
     "shell.execute_reply.started": "2024-01-27T05:40:42.039161Z"
    },
    "trusted": true
   },
   "outputs": [],
   "source": [
    "#compile model\n",
    "\n",
    "transfer_model.compile(optimizer=tf.keras.optimizers.Adam(learning_rate=0.0001),\n",
    "                  loss='categorical_crossentropy',  # Suitable for classification\n",
    "                  metrics=['accuracy'])"
   ]
  },
  {
   "cell_type": "code",
   "execution_count": null,
   "metadata": {
    "execution": {
     "iopub.execute_input": "2024-01-27T05:40:44.660479Z",
     "iopub.status.busy": "2024-01-27T05:40:44.660077Z",
     "iopub.status.idle": "2024-01-27T06:00:18.764284Z",
     "shell.execute_reply": "2024-01-27T06:00:18.763448Z",
     "shell.execute_reply.started": "2024-01-27T05:40:44.660446Z"
    },
    "trusted": true
   },
   "outputs": [],
   "source": [
    "epochs = 50\n",
    "history = transfer_model.fit(train_ds, epochs=epochs, validation_data=val_ds)"
   ]
  },
  {
   "cell_type": "code",
   "execution_count": null,
   "metadata": {
    "execution": {
     "iopub.execute_input": "2024-01-27T06:00:30.159807Z",
     "iopub.status.busy": "2024-01-27T06:00:30.159545Z",
     "iopub.status.idle": "2024-01-27T06:00:30.561884Z",
     "shell.execute_reply": "2024-01-27T06:00:30.560877Z",
     "shell.execute_reply.started": "2024-01-27T06:00:30.159785Z"
    },
    "trusted": true
   },
   "outputs": [],
   "source": [
    "transfer_model.save(\"customCNN.keras\")"
   ]
  },
  {
   "cell_type": "code",
   "execution_count": null,
   "metadata": {},
   "outputs": [],
   "source": [
    "import matplotlib.pyplot as plt\n",
    "\n",
    "transfer_model.evaluate(test_ds)\n",
    "\n",
    "acc = history.history['accuracy']\n",
    "val_acc = history.history['val_accuracy']\n",
    "\n",
    "loss = history.history['loss']\n",
    "val_loss = history.history['val_loss']\n",
    "\n",
    "epochs_range = range(epochs)\n",
    "\n",
    "plt.figure(figsize=(8, 8))\n",
    "plt.subplot(1, 2, 1)\n",
    "plt.plot(epochs_range, acc, label='Training Accuracy')\n",
    "plt.plot(epochs_range, val_acc, label='Validation Accuracy')\n",
    "plt.legend(loc='lower right')\n",
    "plt.title('Training and Validation Accuracy')\n",
    "\n",
    "plt.subplot(1, 2, 2)\n",
    "plt.plot(epochs_range, loss, label='Training Loss')\n",
    "plt.plot(epochs_range, val_loss, label='Validation Loss')\n",
    "plt.legend(loc='upper right')\n",
    "plt.title('Training and Validation Loss')\n",
    "plt.show()"
   ]
  },
  {
   "cell_type": "code",
   "execution_count": null,
   "metadata": {},
   "outputs": [],
   "source": [
    "# Get predictions and true labels\n",
    "import numpy as np\n",
    "import seaborn as sns\n",
    "import matplotlib.pyplot as plt\n",
    "from sklearn.metrics import precision_recall_fscore_support, confusion_matrix\n",
    "\n",
    "y_true = []\n",
    "\n",
    "for images, labels in test_ds:\n",
    "    y_true.extend(np.argmax(labels.numpy(), axis=1))\n",
    "y_true = np.array(y_true)\n",
    "\n",
    "y_pred_probs = transfer_model.predict(test_ds)\n",
    "y_pred = np.argmax(y_pred_probs, axis=1)\n",
    "\n",
    "# Calculate precision, recall, f1-score (macro average)\n",
    "precision, recall, f1, _ = precision_recall_fscore_support(y_true, y_pred, average='macro')\n",
    "print(f\"Precision: {precision:.3f}\")\n",
    "print(f\"Recall (Sensitivity): {recall:.3f}\")\n",
    "print(f\"F1 Score: {f1:.3f}\")\n",
    "\n",
    "# Plot confusion matrix\n",
    "class_names = train_ds.class_names\n",
    "cm = confusion_matrix(y_true, y_pred)\n",
    "\n",
    "plt.figure(figsize=(8, 6))\n",
    "sns.heatmap(cm, annot=True, fmt='d', cmap='Blues', xticklabels=class_names, yticklabels=class_names)\n",
    "plt.title('Confusion Matrix')\n",
    "plt.xlabel('Predicted Label')\n",
    "plt.ylabel('True Label')\n",
    "plt.show()"
   ]
  },
  {
   "cell_type": "code",
   "execution_count": null,
   "metadata": {},
   "outputs": [],
   "source": [
    "#prediction\n",
    "\n",
    "import tensorflow as tf\n",
    "import numpy as np\n",
    "\n",
    "# === Settings ===\n",
    "model_path = \"./customCNNWithTransferLearning.keras\"            # Replace with your model path\n",
    "image_path = \"./images/test/orange_30.jpg\"        # Replace with your image path\n",
    "class_names = [\"Apple\", \"Banana\", \"Orange\"]  # Your class labels\n",
    "\n",
    "TLCNNModel = tf.keras.models.load_model(model_path)\n",
    "\n",
    "# === Load & Preprocess Image ===\n",
    "img = tf.keras.utils.load_img(image_path, target_size=(image_size,image_size))\n",
    "img_array = tf.keras.utils.img_to_array(img)\n",
    "img_array = tf.expand_dims(img_array, axis=0)      # Add batch dimension\n",
    "\n",
    "# === Predict ===\n",
    "predictions = TLCNNModel.predict(img_array)\n",
    "predicted_class = np.argmax(predictions[0])\n",
    "confidence = np.max(predictions[0])\n",
    "\n",
    "# === Output ===\n",
    "print(f\"Predicted: {class_names[predicted_class]} ({confidence:.2f})\")"
   ]
  }
 ],
 "metadata": {
  "kaggle": {
   "accelerator": "nvidiaTeslaT4",
   "dataSources": [
    {
     "datasetId": 2763641,
     "sourceId": 4774750,
     "sourceType": "datasetVersion"
    }
   ],
   "dockerImageVersionId": 30636,
   "isGpuEnabled": true,
   "isInternetEnabled": true,
   "language": "python",
   "sourceType": "notebook"
  },
  "kernelspec": {
   "display_name": "Python 3",
   "language": "python",
   "name": "python3"
  },
  "language_info": {
   "codemirror_mode": {
    "name": "ipython",
    "version": 3
   },
   "file_extension": ".py",
   "mimetype": "text/x-python",
   "name": "python",
   "nbconvert_exporter": "python",
   "pygments_lexer": "ipython3",
   "version": "3.9.6"
  }
 },
 "nbformat": 4,
 "nbformat_minor": 4
}
